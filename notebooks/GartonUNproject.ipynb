{
 "cells": [
  {
   "cell_type": "code",
   "execution_count": 1,
   "id": "18e9365d-b6db-4b00-a620-bd79c226ca9b",
   "metadata": {
    "jupyter": {
     "source_hidden": true
    }
   },
   "outputs": [],
   "source": [
    "import pandas as pd\n",
    "import numpy as np\n",
    "import matplotlib.pyplot as plt\n",
    "import seaborn as sns\n"
   ]
  },
  {
   "cell_type": "code",
   "execution_count": 2,
   "id": "67020cee-d8e1-4cc5-ad18-5d51308f85f3",
   "metadata": {},
   "outputs": [],
   "source": [
    "gdp_df = pd.read_csv(r\"C:\\Users\\Brian\\OneDrive\\Desktop\\DA12\\projects\\Python\\un-python-GartonBrian\\data\\gdp_percapita.csv\")\n"
   ]
  },
  {
   "cell_type": "code",
   "execution_count": 3,
   "id": "f2b1ad8b-b6c0-4484-ad1a-5d3bbc9dd6bd",
   "metadata": {},
   "outputs": [
    {
     "name": "stdout",
     "output_type": "stream",
     "text": [
      "<class 'pandas.core.frame.DataFrame'>\n",
      "RangeIndex: 7662 entries, 0 to 7661\n",
      "Data columns (total 4 columns):\n",
      " #   Column           Non-Null Count  Dtype  \n",
      "---  ------           --------------  -----  \n",
      " 0   Country or Area  7662 non-null   object \n",
      " 1   Year             7662 non-null   int64  \n",
      " 2   Value            7662 non-null   float64\n",
      " 3   Value Footnotes  0 non-null      float64\n",
      "dtypes: float64(2), int64(1), object(1)\n",
      "memory usage: 239.6+ KB\n"
     ]
    }
   ],
   "source": [
    "gdp_df.info()"
   ]
  },
  {
   "cell_type": "markdown",
   "id": "9a9ee968-d277-4fd7-a915-49b2a34854ad",
   "metadata": {},
   "source": [
    "5 How many rows and columns are in `gdp_df`? What are the data types of each column?\n",
    "rows:7662 columns:4 object int64  float64float64"
   ]
  },
  {
   "cell_type": "markdown",
   "id": "03da36d5-74ef-474b-a356-4b4ee08ebb56",
   "metadata": {},
   "source": [
    "rows:7662 columns:4 object int64  float64float64"
   ]
  },
  {
   "cell_type": "markdown",
   "id": "2d99667a-6ba5-4665-85f5-7aeddf4594dd",
   "metadata": {},
   "source": [
    "6. Drop the `Value Footnotes` column and rename the remaining three to 'Country', 'Year', and 'GDP_Per_Capita'.\n"
   ]
  },
  {
   "cell_type": "code",
   "execution_count": 7,
   "id": "2edbfad5-78cb-44b7-8cb4-9a216b02af74",
   "metadata": {},
   "outputs": [],
   "source": [
    "# Drop the 'Value Footnotes' column\n",
    "gdp_df = gdp_df.drop(columns=['Value Footnotes'])\n",
    "\n",
    "# Rename the columns\n",
    "gdp_df.columns = ['Country', 'Year', 'GDP_Per_Capita']\n"
   ]
  },
  {
   "cell_type": "markdown",
   "id": "0e95ca91-da3b-497c-b129-3dbba25acd22",
   "metadata": {},
   "source": [
    "7. How many countries have data for all years? Which countries are missing many years of data? Look at the number of observations per year. What do you notice? "
   ]
  },
  {
   "cell_type": "code",
   "execution_count": 9,
   "id": "40579b24-49ce-4992-b20e-4a2ef00e52d3",
   "metadata": {},
   "outputs": [
    {
     "name": "stdout",
     "output_type": "stream",
     "text": [
      "Countries with data for all years:\n",
      "Country\n",
      "Africa Eastern and Southern    33\n",
      "Africa Western and Central     33\n",
      "Albania                        33\n",
      "Algeria                        33\n",
      "Angola                         33\n",
      "                               ..\n",
      "Vanuatu                        33\n",
      "Viet Nam                       33\n",
      "World                          33\n",
      "Zambia                         33\n",
      "Zimbabwe                       33\n",
      "Name: Year, Length: 202, dtype: int64\n",
      "Countries missing many years of data:\n",
      "Country\n",
      "Cayman Islands               16\n",
      "Djibouti                     10\n",
      "Kosovo                       15\n",
      "Sint Maarten (Dutch part)    14\n",
      "Somalia                      10\n",
      "Turks and Caicos Islands     12\n",
      "Name: Year, dtype: int64\n",
      "Observations per year:\n",
      "Year\n",
      "1990    207\n",
      "1991    208\n",
      "1992    210\n",
      "1993    211\n",
      "1994    213\n",
      "1995    223\n",
      "1996    223\n",
      "1997    226\n",
      "1998    226\n",
      "1999    227\n",
      "2000    233\n",
      "2001    234\n",
      "2002    235\n",
      "2003    235\n",
      "2004    236\n",
      "2005    236\n",
      "2006    237\n",
      "2007    237\n",
      "2008    238\n",
      "2009    239\n",
      "2010    239\n",
      "2011    240\n",
      "2012    240\n",
      "2013    242\n",
      "2014    242\n",
      "2015    242\n",
      "2016    242\n",
      "2017    242\n",
      "2018    242\n",
      "2019    242\n",
      "2020    242\n",
      "2021    241\n",
      "2022    232\n",
      "Name: Country, dtype: int64\n"
     ]
    }
   ],
   "source": [
    "# Check how many unique years are in the dataset to know the maximum possible count\n",
    "total_years = gdp_df['Year'].nunique()\n",
    "\n",
    "# Group by 'Country' and count the number of entries for each country\n",
    "country_year_count = gdp_df.groupby('Country').count()['Year']\n",
    "\n",
    "# Determine countries with data for all years\n",
    "countries_all_years = country_year_count[country_year_count == total_years]\n",
    "\n",
    "# Print countries with complete data\n",
    "print(\"Countries with data for all years:\")\n",
    "print(countries_all_years)\n",
    "\n",
    "# Determine countries with many missing years of data\n",
    "# You might decide 'many' is more than half the years missing\n",
    "threshold_years = total_years / 2\n",
    "countries_missing_many_years = country_year_count[country_year_count < threshold_years]\n",
    "\n",
    "# Print countries missing many years of data\n",
    "print(\"Countries missing many years of data:\")\n",
    "print(countries_missing_many_years)\n",
    "\n",
    "# Inspect the number of observations per year to see overall data availability trends\n",
    "observations_per_year = gdp_df.groupby('Year').count()['Country']\n",
    "print(\"Observations per year:\")\n",
    "print(observations_per_year)\n"
   ]
  },
  {
   "cell_type": "markdown",
   "id": "8047935e-52d0-4623-a58b-102c67318656",
   "metadata": {},
   "source": [
    "8. In this question, you're going to create some plots to show the distribution of GDP per capita for the year 2020. Go to the Python Graph Gallery (https://www.python-graph-gallery.com/) and look at the different types of plots under the Distribution section. Create a histogram, a density plot, a boxplot, and a violin plot. What do you notice when you look at these plots? How do the plots compare and what information can you get out of one type that you can't necessarily get out of the others?\n"
   ]
  },
  {
   "cell_type": "code",
   "execution_count": null,
   "id": "df7d899b-81f3-471d-aca8-571a5ab123d8",
   "metadata": {},
   "outputs": [],
   "source": []
  },
  {
   "cell_type": "markdown",
   "id": "a2f18639-f943-448f-9bd9-b3b05f62fe83",
   "metadata": {},
   "source": [
    "9. What was the median GDP per capita value in 2020?"
   ]
  },
  {
   "cell_type": "code",
   "execution_count": null,
   "id": "d2575773-e1bc-4b24-a584-91dfdfdefad8",
   "metadata": {},
   "outputs": [],
   "source": []
  },
  {
   "cell_type": "markdown",
   "id": "1478f1d0-09df-431e-ab64-ecf4739294d6",
   "metadata": {},
   "source": [
    "10. For this question, you're going to create some visualizations to compare GDP per capita values for the years 1990, 2000, 2010, and 2020. Start by subsetting your data to just these 4 years into a new DataFrame named gdp_decades. Using this, create the following 4 plots:\n",
    "\t* A boxplot\n",
    "\t* A barplot (check out the Barplot with Seaborn section: https://www.python-graph-gallery.com/barplot/#Seaborn)\n",
    "\t* A scatterplot\n",
    "\t* A scatterplot with a trend line overlaid (see this regplot example: https://www.python-graph-gallery.com/42-custom-linear-regression-fit-seaborn)  \n",
    "Comment on what you observe has happened to GDP values over time and the relative strengths and weaknesses of each type of plot."
   ]
  },
  {
   "cell_type": "code",
   "execution_count": null,
   "id": "b4355d36-e14b-4600-ad30-9f1807b8be13",
   "metadata": {},
   "outputs": [],
   "source": []
  },
  {
   "cell_type": "markdown",
   "id": "cb70bdfe-c44f-45b3-9563-1b6450cd8668",
   "metadata": {},
   "source": [
    "11. Which country was the first to have a GDP per capita greater than $100,000?"
   ]
  },
  {
   "cell_type": "code",
   "execution_count": null,
   "id": "1f4476b1-6097-4bff-99b1-3c4a6a85002f",
   "metadata": {},
   "outputs": [],
   "source": []
  },
  {
   "cell_type": "markdown",
   "id": "3c7acf46-6e1f-4ada-90a6-15f05932e644",
   "metadata": {},
   "source": [
    "12. Which country had the highest GDP per capita in 2020? Create a plot showing how this country's GDP per capita has changed over the timespan of the dataset."
   ]
  },
  {
   "cell_type": "code",
   "execution_count": null,
   "id": "2180e20e-9e1d-41fd-b49b-740e38976b7d",
   "metadata": {},
   "outputs": [],
   "source": []
  },
  {
   "cell_type": "markdown",
   "id": "fe6486be-e7a5-4361-a9d1-49c81d9a38ab",
   "metadata": {},
   "source": [
    "13. Which country had the lowest GDP per capita in 2020? Create a plot showing how this country's GDP per capita has changed over the timespan of the dataset. **Bonus question:** Is it true in general that coutries had a higher GDP per capita in 2020 than in 1990? Which countries had lower GDP per capita in 2020 than in 1990?"
   ]
  },
  {
   "cell_type": "code",
   "execution_count": null,
   "id": "0fa12293-f367-45cb-912f-8b39b4e81018",
   "metadata": {},
   "outputs": [],
   "source": []
  },
  {
   "cell_type": "markdown",
   "id": "2158b866-eff2-465a-b0c3-6c418b135c1f",
   "metadata": {},
   "source": [
    "14. Read in the internet use dataset into a DataFrame named `internet_df`. You will likely get errors when doing this. Check the arguments for the read_csv function to find ones that can help correct the errors (https://pandas.pydata.org/docs/reference/api/pandas.read_csv.html) Once you are able to read it in, take per a look at the top and bottom few rows to make sure that it has been read in correctly. Also, check the datatypes of the columns."
   ]
  },
  {
   "cell_type": "code",
   "execution_count": null,
   "id": "0634c031-ff9b-4673-a0af-b166473538e5",
   "metadata": {},
   "outputs": [],
   "source": []
  },
  {
   "cell_type": "markdown",
   "id": "825a8066-050d-42dc-8fcf-4720fee1cfa8",
   "metadata": {},
   "source": [
    "15. Drop the `Value Footnotes` column and rename the remaining three to 'Country', 'Year', and 'Internet_Users_Pct'."
   ]
  },
  {
   "cell_type": "code",
   "execution_count": null,
   "id": "94f3fac1-54ee-4539-92c0-7e51da064e4f",
   "metadata": {},
   "outputs": [],
   "source": []
  },
  {
   "cell_type": "markdown",
   "id": "137001f5-e261-45fa-b5f8-603f6e027c55",
   "metadata": {},
   "source": [
    "16. Look at the number of observations in this dataset per year. What do you notice?"
   ]
  },
  {
   "cell_type": "code",
   "execution_count": null,
   "id": "9816e0ee-6b63-45d8-9f5f-ec8a01f511b3",
   "metadata": {},
   "outputs": [],
   "source": []
  },
  {
   "cell_type": "markdown",
   "id": "302d3857-c2b8-4ca4-b006-9761502486b5",
   "metadata": {},
   "source": [
    "17. What is the first year to have a non-zero internet users percentage value?"
   ]
  },
  {
   "cell_type": "code",
   "execution_count": null,
   "id": "c5fca173-da0d-4279-9aa3-77a36713ebb6",
   "metadata": {},
   "outputs": [],
   "source": []
  },
  {
   "cell_type": "markdown",
   "id": "5cac1614-87be-4fb2-94be-bfc6e842c00f",
   "metadata": {},
   "source": [
    "18. How does the distribution of internet users percent differ for 2000 and 2014?"
   ]
  },
  {
   "cell_type": "code",
   "execution_count": null,
   "id": "bd754356-d01d-4edf-aea9-1b44016b4850",
   "metadata": {},
   "outputs": [],
   "source": []
  },
  {
   "cell_type": "markdown",
   "id": "552b9db5-f6a1-48bd-90a6-f7adcfd28a4b",
   "metadata": {},
   "source": [
    "19. For how many countries was the percentage of internet users below 5% in 2014?"
   ]
  },
  {
   "cell_type": "code",
   "execution_count": null,
   "id": "b1b7c51a-15b7-4422-a980-2f411b3e65e9",
   "metadata": {},
   "outputs": [],
   "source": []
  },
  {
   "cell_type": "markdown",
   "id": "de3abb26-8822-4ec3-a035-9a44b9651717",
   "metadata": {},
   "source": [
    "20. Merge the two DataFrames to one. Do this in a way that keeps **all rows** from each of the two DataFrames. Call the new DataFrame `gdp_and_internet_use`. Look at the first and last few rows to confirm that it merged correctly."
   ]
  },
  {
   "cell_type": "code",
   "execution_count": null,
   "id": "122134dd-1536-4400-84b0-0ecad31270c5",
   "metadata": {},
   "outputs": [],
   "source": []
  },
  {
   "cell_type": "markdown",
   "id": "14edc586-6922-4b9c-a4f6-6f7d4fa7db33",
   "metadata": {},
   "source": [
    "21. Find the three countries with the highest internet users percentage in 2014. Use a seaborn FacetGrid (https://seaborn.pydata.org/generated/seaborn.FacetGrid.html) to compare how the GDP per capita has changed over time for these three countries. What do you notice?"
   ]
  },
  {
   "cell_type": "code",
   "execution_count": null,
   "id": "c67106b8-ed71-42ac-b333-bd0f0874f78a",
   "metadata": {},
   "outputs": [],
   "source": []
  },
  {
   "cell_type": "markdown",
   "id": "2e99d724-47b2-474a-8056-40fe682aae69",
   "metadata": {},
   "source": [
    "22. Subset `gdp_and_internet_use` to just the year 2014. Save this as a new dataframe named `gdp_and_internet_use_2014`."
   ]
  },
  {
   "cell_type": "code",
   "execution_count": null,
   "id": "12806916-2141-43ee-8ea3-8af46f1dbaf1",
   "metadata": {},
   "outputs": [],
   "source": []
  },
  {
   "cell_type": "markdown",
   "id": "e3f8307c-c7e3-4aa0-ad13-df9840e38664",
   "metadata": {},
   "source": [
    "23. Create a plot which compares Internet Users Percentage and GDP per Capita for the year 2014. What do you notice from this plot? If you see any unusual points, investigate them."
   ]
  },
  {
   "cell_type": "code",
   "execution_count": null,
   "id": "a147b3c3-818e-457b-8196-b421f565a580",
   "metadata": {},
   "outputs": [],
   "source": []
  },
  {
   "cell_type": "markdown",
   "id": "7d75fbbf-df91-41bf-80f5-ebb140ed110d",
   "metadata": {},
   "source": [
    "24. **Stretch Question:** Use the `qcut` function from pandas (https://pandas.pydata.org/docs/reference/api/pandas.qcut.html) to divide countries in `gdp_per_capita_2014` into three groups based on their GDP per capita values. Label these groups as \"Low\", \"Medium\", and \"High\". Put these labels in a new column, named \"GDP_group\"."
   ]
  },
  {
   "cell_type": "code",
   "execution_count": null,
   "id": "d561b18b-abeb-4d78-82ce-1eeac9b02211",
   "metadata": {},
   "outputs": [],
   "source": []
  },
  {
   "cell_type": "markdown",
   "id": "9e86691f-22d7-40d5-ab1e-ae3cb42029be",
   "metadata": {},
   "source": [
    "25. **Stretch Question:** How does the median internet users percentage compare for the three gdp groups?"
   ]
  },
  {
   "cell_type": "code",
   "execution_count": null,
   "id": "302fc4b3-f978-4bcb-8fcd-b14b04e1c0cc",
   "metadata": {},
   "outputs": [],
   "source": []
  },
  {
   "cell_type": "markdown",
   "id": "63920b74-c9db-494a-a9bc-bd0c71168bd0",
   "metadata": {},
   "source": [
    "### Bonus exercise:\n",
    "1.    Download another data set from the UN data (http://data.un.org/Explorer.aspx) to merge with your data and explore.\n"
   ]
  }
 ],
 "metadata": {
  "kernelspec": {
   "display_name": "Python 3 (ipykernel)",
   "language": "python",
   "name": "python3"
  },
  "language_info": {
   "codemirror_mode": {
    "name": "ipython",
    "version": 3
   },
   "file_extension": ".py",
   "mimetype": "text/x-python",
   "name": "python",
   "nbconvert_exporter": "python",
   "pygments_lexer": "ipython3",
   "version": "3.12.4"
  }
 },
 "nbformat": 4,
 "nbformat_minor": 5
}
